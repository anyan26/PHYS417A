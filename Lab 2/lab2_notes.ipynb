{
  "nbformat": 4,
  "nbformat_minor": 0,
  "metadata": {
    "colab": {
      "provenance": [],
      "gpuType": "T4"
    },
    "kernelspec": {
      "name": "python3",
      "display_name": "Python 3"
    },
    "language_info": {
      "name": "python"
    },
    "accelerator": "GPU"
  },
  "cells": [
    {
      "cell_type": "markdown",
      "source": [
        "#Neural Network Workflow in PyTorch"
      ],
      "metadata": {
        "id": "6_msfGYidBBm"
      }
    },
    {
      "cell_type": "markdown",
      "source": [
        "*   Prepare Data\n",
        "* Define Model\n",
        "  * dimensions of input and output\n",
        "  * number of hidden layers\n",
        "  * number of neurons in each hidden layer, etc.\n",
        "* Define Hyperparameters\n",
        "* Identify Tracked Values\n",
        "* Train Model\n",
        "* Visualization and Validation\n",
        "\n"
      ],
      "metadata": {
        "id": "Pz-EPKogd8lK"
      }
    },
    {
      "cell_type": "code",
      "source": [
        "import numpy as np\n",
        "import matplotlib.pyplot as plt\n",
        "\n",
        "import torch\n",
        "torch.cuda.is_available()"
      ],
      "metadata": {
        "colab": {
          "base_uri": "https://localhost:8080/"
        },
        "id": "2_A-snmCeM6p",
        "outputId": "38f92a32-64e6-4cc4-d785-8e24554de0ef"
      },
      "execution_count": 1,
      "outputs": [
        {
          "output_type": "execute_result",
          "data": {
            "text/plain": [
              "True"
            ]
          },
          "metadata": {},
          "execution_count": 1
        }
      ]
    },
    {
      "cell_type": "code",
      "source": [
        "x_train = np.arange(11, dtype = np.float32)\n",
        "x_train = x_train[:, np.newaxis] #[:, np.newaxis] makes x vertically oriented\n",
        "\n",
        "y_train = (2*x_train) + 1"
      ],
      "metadata": {
        "id": "nObxEpe0_pMz"
      },
      "execution_count": 3,
      "outputs": []
    },
    {
      "cell_type": "code",
      "source": [
        "#defining a model in pytorch is through a class with init and forward function\n",
        "class linearRegression(torch.nn.Module):\n",
        "  def __init__(self, input_dim, output_dim):\n",
        "    super(linearRegression, self).__init__()\n",
        "    self.linear = torch.nn.Linear(input_dim, output_dim)\n",
        "\n",
        "  def forward(self, x):\n",
        "    out = self.linear(x)\n",
        "    #no hidden layer\n",
        "    return out"
      ],
      "metadata": {
        "id": "1POvxBhbeeht"
      },
      "execution_count": 2,
      "outputs": []
    },
    {
      "cell_type": "markdown",
      "source": [
        "#Select Hyperparameter\n",
        "* Optimizer\n",
        "  * iteratively adjust weights to achieve minimum in loss function\n",
        "* Loss Function\n",
        "  * different between output and target function\n",
        "* Learning Rate\n",
        "  * difference between each iteration\n",
        "* Epochs (number of iterations)\n",
        "  * with learning rate, decide scale of adjustment\n",
        "* Other hyperparameters"
      ],
      "metadata": {
        "id": "pLqFlti8nRmS"
      }
    },
    {
      "cell_type": "code",
      "source": [
        "model = linearRegression(input_dim = 1, output_dim = 1)\n",
        "\n",
        "learning_rate = 0.01\n",
        "epochs = 100\n",
        "\n",
        "loss_func = torch.nn.MSELoss() #loss function = MSE\n",
        "#optimizer = gradient descent\n",
        "optimizer = torch.optim.SGD(model.parameters(), lr = learning_rate)\n",
        "\n",
        "model.cuda() #transfer the model to GPU memory"
      ],
      "metadata": {
        "colab": {
          "base_uri": "https://localhost:8080/"
        },
        "id": "uXniWjRNoMIc",
        "outputId": "72d7d33c-a37f-4bd9-c1bb-5a35373237eb"
      },
      "execution_count": 4,
      "outputs": [
        {
          "output_type": "execute_result",
          "data": {
            "text/plain": [
              "linearRegression(\n",
              "  (linear): Linear(in_features=1, out_features=1, bias=True)\n",
              ")"
            ]
          },
          "metadata": {},
          "execution_count": 4
        }
      ]
    },
    {
      "cell_type": "code",
      "source": [
        "#identify training variable\n",
        "#training loss = a function to determine cost\n",
        "\n",
        "train_loss_list = []"
      ],
      "metadata": {
        "id": "ita_rRmcrj86"
      },
      "execution_count": 5,
      "outputs": []
    },
    {
      "cell_type": "code",
      "source": [
        "#first need convert input/outputs to PyTorch tensors\n",
        "inputs = torch.from_numpy(x_train).cuda()\n",
        "targets = torch.from_numpy(y_train).cuda()\n",
        "\n",
        "for epoch in range(epochs):\n",
        "  optimizer.zero_grad() #ensure learning in each epoch is separate\n",
        "  outputs = model(inputs)\n",
        "\n",
        "  loss = loss_func(outputs, targets)\n",
        "\n",
        "  train_loss_list.append(loss.item())\n",
        "\n",
        "  loss.backward() #back propagation\n",
        "\n",
        "  optimizer.step() #update weights/biases\n",
        "\n",
        "  print('epoch {}, loss {}'.format(epoch+1, loss.item()))"
      ],
      "metadata": {
        "id": "2AIThaBd_Pjp",
        "colab": {
          "base_uri": "https://localhost:8080/"
        },
        "outputId": "8ccb90aa-c1a8-43e5-d901-a1fb503b1fff"
      },
      "execution_count": 18,
      "outputs": [
        {
          "output_type": "stream",
          "name": "stdout",
          "text": [
            "epoch 1, loss 1.0725241736508906e-05\n",
            "epoch 2, loss 1.060514296113979e-05\n",
            "epoch 3, loss 1.0486545761523303e-05\n",
            "epoch 4, loss 1.0369504707341548e-05\n",
            "epoch 5, loss 1.0253478649246972e-05\n",
            "epoch 6, loss 1.0139681762666442e-05\n",
            "epoch 7, loss 1.0025831215898506e-05\n",
            "epoch 8, loss 9.913928806781769e-06\n",
            "epoch 9, loss 9.803402463148814e-06\n",
            "epoch 10, loss 9.694036634755321e-06\n",
            "epoch 11, loss 9.585607585904654e-06\n",
            "epoch 12, loss 9.478269930696115e-06\n",
            "epoch 13, loss 9.372908607474528e-06\n",
            "epoch 14, loss 9.2680393208866e-06\n",
            "epoch 15, loss 9.165089068119414e-06\n",
            "epoch 16, loss 9.062593562703114e-06\n",
            "epoch 17, loss 8.961385901784524e-06\n",
            "epoch 18, loss 8.860482921591029e-06\n",
            "epoch 19, loss 8.762007382756565e-06\n",
            "epoch 20, loss 8.665063432999887e-06\n",
            "epoch 21, loss 8.568057637603488e-06\n",
            "epoch 22, loss 8.471937690046616e-06\n",
            "epoch 23, loss 8.37777497508796e-06\n",
            "epoch 24, loss 8.284003342851065e-06\n",
            "epoch 25, loss 8.19085198600078e-06\n",
            "epoch 26, loss 8.100474587990902e-06\n",
            "epoch 27, loss 8.009606062842067e-06\n",
            "epoch 28, loss 7.920015377749223e-06\n",
            "epoch 29, loss 7.831995390006341e-06\n",
            "epoch 30, loss 7.744824870314915e-06\n",
            "epoch 31, loss 7.658139111299533e-06\n",
            "epoch 32, loss 7.5721122811955865e-06\n",
            "epoch 33, loss 7.487680704798549e-06\n",
            "epoch 34, loss 7.404071766359266e-06\n",
            "epoch 35, loss 7.320832537516253e-06\n",
            "epoch 36, loss 7.239667866087984e-06\n",
            "epoch 37, loss 7.1593044594919775e-06\n",
            "epoch 38, loss 7.078834187268512e-06\n",
            "epoch 39, loss 6.9994080149626825e-06\n",
            "epoch 40, loss 6.921482508914778e-06\n",
            "epoch 41, loss 6.8442818701441865e-06\n",
            "epoch 42, loss 6.7683931774809025e-06\n",
            "epoch 43, loss 6.692354418191826e-06\n",
            "epoch 44, loss 6.61729063722305e-06\n",
            "epoch 45, loss 6.543423751281807e-06\n",
            "epoch 46, loss 6.470331300079124e-06\n",
            "epoch 47, loss 6.397978722816333e-06\n",
            "epoch 48, loss 6.326831680780742e-06\n",
            "epoch 49, loss 6.255395419429988e-06\n",
            "epoch 50, loss 6.1859241213824134e-06\n",
            "epoch 51, loss 6.117201792221749e-06\n",
            "epoch 52, loss 6.048524028301472e-06\n",
            "epoch 53, loss 5.980734840704827e-06\n",
            "epoch 54, loss 5.914143912377767e-06\n",
            "epoch 55, loss 5.84818008064758e-06\n",
            "epoch 56, loss 5.7830006880976725e-06\n",
            "epoch 57, loss 5.717940439353697e-06\n",
            "epoch 58, loss 5.654841515934095e-06\n",
            "epoch 59, loss 5.591060471488163e-06\n",
            "epoch 60, loss 5.528853762371e-06\n",
            "epoch 61, loss 5.4669894780090544e-06\n",
            "epoch 62, loss 5.406046966527356e-06\n",
            "epoch 63, loss 5.3449953156814445e-06\n",
            "epoch 64, loss 5.28659938936471e-06\n",
            "epoch 65, loss 5.227181645750534e-06\n",
            "epoch 66, loss 5.168639290786814e-06\n",
            "epoch 67, loss 5.1109204832755495e-06\n",
            "epoch 68, loss 5.054371740698116e-06\n",
            "epoch 69, loss 4.997307769372128e-06\n",
            "epoch 70, loss 4.9417240006732754e-06\n",
            "epoch 71, loss 4.886102487944299e-06\n",
            "epoch 72, loss 4.832503236684715e-06\n",
            "epoch 73, loss 4.7785151764401235e-06\n",
            "epoch 74, loss 4.7250400712073315e-06\n",
            "epoch 75, loss 4.672331215260783e-06\n",
            "epoch 76, loss 4.620063464244595e-06\n",
            "epoch 77, loss 4.568237272906117e-06\n",
            "epoch 78, loss 4.5173319449531846e-06\n",
            "epoch 79, loss 4.46666172138066e-06\n",
            "epoch 80, loss 4.417257059685653e-06\n",
            "epoch 81, loss 4.3673612708516885e-06\n",
            "epoch 82, loss 4.318706487538293e-06\n",
            "epoch 83, loss 4.270761564839631e-06\n",
            "epoch 84, loss 4.2231376937706955e-06\n",
            "epoch 85, loss 4.175451067567337e-06\n",
            "epoch 86, loss 4.129261469643097e-06\n",
            "epoch 87, loss 4.083410203747917e-06\n",
            "epoch 88, loss 4.037462076666998e-06\n",
            "epoch 89, loss 3.99271493733977e-06\n",
            "epoch 90, loss 3.947940513171488e-06\n",
            "epoch 91, loss 3.903568540408742e-06\n",
            "epoch 92, loss 3.860490778606618e-06\n",
            "epoch 93, loss 3.817357537627686e-06\n",
            "epoch 94, loss 3.774452125071548e-06\n",
            "epoch 95, loss 3.732606955964002e-06\n",
            "epoch 96, loss 3.6910391827404965e-06\n",
            "epoch 97, loss 3.649485734058544e-06\n",
            "epoch 98, loss 3.609068244259106e-06\n",
            "epoch 99, loss 3.5683572150446707e-06\n",
            "epoch 100, loss 3.5285650028527016e-06\n"
          ]
        }
      ]
    },
    {
      "cell_type": "code",
      "source": [
        "with torch.no_grad():\n",
        "  predicted = model(torch.from_numpy(x_train).cuda()).cpu().numpy()\n",
        "\n",
        "  print(predicted)\n",
        "  print(str(model.linear.weight.cpu().numpy()))\n",
        "  print(model.linear.bias.cpu().numpy())"
      ],
      "metadata": {
        "colab": {
          "base_uri": "https://localhost:8080/"
        },
        "id": "XAuCgZRG__sN",
        "outputId": "38ee4f46-00db-488c-98fa-039eca5e5c7c"
      },
      "execution_count": 19,
      "outputs": [
        {
          "output_type": "stream",
          "name": "stdout",
          "text": [
            "[[ 0.9965056]\n",
            " [ 2.9970088]\n",
            " [ 4.9975123]\n",
            " [ 6.9980154]\n",
            " [ 8.998519 ]\n",
            " [10.9990225]\n",
            " [12.999525 ]\n",
            " [15.000029 ]\n",
            " [17.000532 ]\n",
            " [19.001036 ]\n",
            " [21.00154  ]]\n",
            "[[2.0005033]]\n",
            "[0.9965056]\n"
          ]
        }
      ]
    },
    {
      "cell_type": "markdown",
      "source": [
        "#Python Basics for ML"
      ],
      "metadata": {
        "id": "Qiwy436BCJML"
      }
    },
    {
      "cell_type": "markdown",
      "source": [
        "Python Classes"
      ],
      "metadata": {
        "id": "u_MhytXOCM1Z"
      }
    }
  ]
}