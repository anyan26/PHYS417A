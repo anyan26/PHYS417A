{
 "cells": [
  {
   "cell_type": "markdown",
   "id": "7e263a70",
   "metadata": {},
   "source": [
    "# Introduction to RNNs\n",
    "\n",
    "## Why do we need RNNs\n",
    "\n",
    "Regular processing does not consider sequential data\n",
    "\n",
    "Feed-forward network has no memory of past inputs, but sometimes we need memory\n",
    "\n",
    "RNNs need to handle\n",
    "* Data Order\n",
    "* Temporal Dependencies\n",
    "* Variable Input Sizes"
   ]
  },
  {
   "cell_type": "code",
   "execution_count": 1,
   "id": "7cd42444",
   "metadata": {},
   "outputs": [],
   "source": [
    "#torch.nn.RNN(input_size, hidden_size,\n",
    "#        num_layers, nonlinearity->default = tanh)"
   ]
  },
  {
   "cell_type": "markdown",
   "id": "0cd52484",
   "metadata": {},
   "source": [
    "## Embedding Layer"
   ]
  },
  {
   "cell_type": "markdown",
   "id": "5e6d84b4",
   "metadata": {},
   "source": [
    "Instead of representing an input as one number, representing them as vector of numbers can better capture the similarities/differences between them.\n",
    "\n",
    "map number to vector (row in matrix)\n",
    "\n",
    "torch.nn.embedding(num_embeddings, embedding_dim)"
   ]
  },
  {
   "cell_type": "markdown",
   "id": "37375ed7",
   "metadata": {},
   "source": [
    "## Encoding Layer"
   ]
  },
  {
   "cell_type": "markdown",
   "id": "b13b0440",
   "metadata": {},
   "source": [
    "Convert back to human-understandable outputs\n",
    "\n",
    "just a fully connected layer\n",
    "\n",
    "torch.nn.Linear(hidden_size, output_size)"
   ]
  },
  {
   "cell_type": "markdown",
   "id": "0b084ea1",
   "metadata": {},
   "source": [
    "# Training RNNs"
   ]
  },
  {
   "cell_type": "markdown",
   "id": "8a69de5d",
   "metadata": {},
   "source": [
    "## Vanishing/Exploding Gradients\n",
    "\n",
    "* Use gated RNN structures (Lab 6)\n",
    "* ReLU activation\n",
    "* Smaller number of sequences\n",
    "* Smaller learning rate"
   ]
  },
  {
   "cell_type": "markdown",
   "id": "b58e045e",
   "metadata": {},
   "source": [
    "## Teacher Forcing\n",
    "\n",
    "* Tell the model the correct output at some time step "
   ]
  },
  {
   "cell_type": "markdown",
   "id": "300ab0cb",
   "metadata": {},
   "source": [
    "# RNN Problem Types\n",
    "\n",
    "* One to One\n",
    "    * identical to feed-forward network\n",
    "  \n",
    "* One to Many\n",
    "    * generating multiple outputs\n",
    "    * example: music generation (multiple notes generated), image captioning (multiple words in the description)\n",
    "   \n",
    "* Many to One\n",
    "    * from multiple inputs, generate 1 output\n",
    "    * example: sentiment analysis\n",
    " \n",
    "* Many to Many\n",
    "    * multiple inputs/outputs\n",
    "    * example: story generation from a sentence, machine translation, video captioning \n",
    "    \n",
    "    \n",
    "    \n",
    "* Deep RNN -> more than 1 layer of RNN cells\n",
    "    * better performance, more complex problems\n",
    "    * overfitting and longer training time\n",
    "    * use num_layers parameters in torch.nn.RNN()\n",
    "* Bi-directional RNNs\n",
    "    * good performance in natural language processing tasks\n",
    "    * when both left/right are important\n",
    "    * harder to train than uni-directional networks\n",
    "    * not suitable for real-time processing \n",
    "    * implemented through bidirectional parameter in torch.nn.RNN()"
   ]
  },
  {
   "cell_type": "markdown",
   "id": "4ac243fa",
   "metadata": {},
   "source": [
    "# Implementation of RNN in PyTorch"
   ]
  },
  {
   "cell_type": "markdown",
   "id": "e6ee2227",
   "metadata": {},
   "source": [
    "View lab 5 examples"
   ]
  },
  {
   "cell_type": "markdown",
   "id": "a05d550a",
   "metadata": {},
   "source": [
    "## Language Model"
   ]
  },
  {
   "cell_type": "markdown",
   "id": "0c092473",
   "metadata": {},
   "source": [
    "* probability over sequences of words \n",
    "* P(sequence) = P(each word|given previous sequence) "
   ]
  },
  {
   "cell_type": "markdown",
   "id": "19b66dc4",
   "metadata": {},
   "source": [
    "* Vanishing gradients: gated structure\n",
    "    * only propagate values greater than x\n",
    "* Exploding gradients: gradient clipping \n",
    "    * only propagate a value with derivative less than x"
   ]
  }
 ],
 "metadata": {
  "kernelspec": {
   "display_name": "Python 3 (ipykernel)",
   "language": "python",
   "name": "python3"
  },
  "language_info": {
   "codemirror_mode": {
    "name": "ipython",
    "version": 3
   },
   "file_extension": ".py",
   "mimetype": "text/x-python",
   "name": "python",
   "nbconvert_exporter": "python",
   "pygments_lexer": "ipython3",
   "version": "3.11.5"
  }
 },
 "nbformat": 4,
 "nbformat_minor": 5
}
