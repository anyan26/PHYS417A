{
 "cells": [
  {
   "cell_type": "markdown",
   "id": "56944291",
   "metadata": {},
   "source": [
    "# Python Basics Tutorial"
   ]
  },
  {
   "cell_type": "markdown",
   "id": "560ec0ea",
   "metadata": {},
   "source": [
    "Reminder: python variables are objects and don't need variable type at the start"
   ]
  },
  {
   "cell_type": "code",
   "execution_count": 1,
   "id": "6067b9fe",
   "metadata": {},
   "outputs": [
    {
     "name": "stdout",
     "output_type": "stream",
     "text": [
      "2021\n"
     ]
    }
   ],
   "source": [
    "var1 = 2021\n",
    "print(var1)"
   ]
  },
  {
   "cell_type": "markdown",
   "id": "b9e4951c",
   "metadata": {},
   "source": [
    "3 types of numbers: integer, float, complex"
   ]
  },
  {
   "cell_type": "code",
   "execution_count": 8,
   "id": "d5b8a92b",
   "metadata": {},
   "outputs": [
    {
     "name": "stdout",
     "output_type": "stream",
     "text": [
      "(-3+4j)\n"
     ]
    }
   ],
   "source": [
    "a = 1\n",
    "b = 1.5\n",
    "c = 1+2j\n",
    "#note: j stands for imaginary number in python\n",
    "print(c*c)"
   ]
  },
  {
   "cell_type": "markdown",
   "id": "ec5e5b47",
   "metadata": {},
   "source": [
    "Booleans in python are True or False"
   ]
  },
  {
   "cell_type": "markdown",
   "id": "6e4ac73f",
   "metadata": {},
   "source": [
    "String in python is character array"
   ]
  },
  {
   "cell_type": "markdown",
   "id": "9ee0d25e",
   "metadata": {},
   "source": [
    "Data types: lists, can store multiple types of data (unlike C++)"
   ]
  },
  {
   "cell_type": "code",
   "execution_count": 10,
   "id": "44e87d77",
   "metadata": {},
   "outputs": [
    {
     "name": "stdout",
     "output_type": "stream",
     "text": [
      "[1, 2, 3, 4, 5, 'I', 'Love', 'Lydia']\n",
      "[1, 2, 3, 4]\n",
      "Love\n"
     ]
    }
   ],
   "source": [
    "#review of negative and continuous indexing\n",
    "l = [1, 2, 3, 4, 5, \"I\", \"Love\", \"Lydia\"]\n",
    "print(l)\n",
    "print(l[:4])\n",
    "print(l[-2])"
   ]
  },
  {
   "cell_type": "code",
   "execution_count": 13,
   "id": "b367726b",
   "metadata": {},
   "outputs": [
    {
     "name": "stdout",
     "output_type": "stream",
     "text": [
      "['Mua', 2, 3, 4, 5, 'I', 'Love', 'Lydia', 'An', 'An', 'An']\n",
      "['Mua', 'Mua', 2, 3, 4, 5, 'I', 'Love', 'Lydia', 'An', 'An', 'An']\n",
      "['Mua', 2, 3, 4, 5, 'I', 'Love', 'Lydia', 'An', 'An', 'An']\n",
      "True\n"
     ]
    }
   ],
   "source": [
    "#append\n",
    "l.append(\"An\")\n",
    "print(l)\n",
    "#insert\n",
    "l.insert(1, \"Mua\")\n",
    "print(l)\n",
    "#delete\n",
    "del l[0]\n",
    "print(l)\n",
    "\n",
    "#check if element in list\n",
    "print(\"Love\" in l)"
   ]
  },
  {
   "cell_type": "markdown",
   "id": "497de285",
   "metadata": {},
   "source": [
    "# Numpy and Plotting"
   ]
  },
  {
   "cell_type": "code",
   "execution_count": 16,
   "id": "cd7cddc3",
   "metadata": {},
   "outputs": [
    {
     "name": "stdout",
     "output_type": "stream",
     "text": [
      "array dimension:  (2, 5)\n",
      "array type:  <class 'numpy.ndarray'>\n"
     ]
    }
   ],
   "source": [
    "import numpy as np\n",
    "#create array by using np.array()\n",
    "arr = np.array([[1, 2, 3, 4, 5], [5, 6, 7, 8, 9]])\n",
    "print(\"array dimension: \", arr.shape)\n",
    "print(\"array type: \", type(arr))"
   ]
  },
  {
   "cell_type": "code",
   "execution_count": 18,
   "id": "713343a0",
   "metadata": {},
   "outputs": [
    {
     "name": "stdout",
     "output_type": "stream",
     "text": [
      "[0. 0. 0. 0.]\n",
      "[[0. 0. 0.]\n",
      " [0. 0. 0.]]\n",
      "[1. 1. 1.]\n"
     ]
    }
   ],
   "source": [
    "#zeros array\n",
    "a1 = np.zeros(4)\n",
    "print(a1)\n",
    "a2 = np.zeros((2, 3)) #zeros and ones are all floats\n",
    "print(a2)\n",
    "\n",
    "#ones array\n",
    "a3 = np.ones(3)\n",
    "print(a3)"
   ]
  },
  {
   "cell_type": "code",
   "execution_count": 20,
   "id": "1e13e080",
   "metadata": {},
   "outputs": [
    {
     "name": "stdout",
     "output_type": "stream",
     "text": [
      "[0 2 4 6 8]\n",
      "[ 0.  5. 10.]\n"
     ]
    }
   ],
   "source": [
    "#np.arange\n",
    "a1 = np.arange(0, 10, 2) #start, end, stepsize\n",
    "print(a1)\n",
    "\n",
    "#np.linspace\n",
    "a2 = np.linspace(0, 10, 3) #start, end, number of elements\n",
    "print(a2)"
   ]
  },
  {
   "cell_type": "markdown",
   "id": "d56fc7f6",
   "metadata": {},
   "source": [
    "numpy support array-wide operation such as addition"
   ]
  },
  {
   "cell_type": "code",
   "execution_count": 24,
   "id": "0ce92c49",
   "metadata": {},
   "outputs": [
    {
     "data": {
      "text/plain": [
       "array([ 7,  9, 11, 13, 15])"
      ]
     },
     "execution_count": 24,
     "metadata": {},
     "output_type": "execute_result"
    }
   ],
   "source": [
    "a1 = [1, 2, 3, 4, 5]\n",
    "a2 = [6, 7, 8, 9, 10]\n",
    "a3 = np.add(a1, a2) #.add(),.subtract(),.multiply(), .exp(), .divide(), .mod()\n",
    "a3 #trig functions require radians\n",
    "\n",
    "#numpy constants: np.pi, np.sqrt(x)"
   ]
  },
  {
   "cell_type": "markdown",
   "id": "dd84999a",
   "metadata": {},
   "source": [
    "numpy also allows to join/concatnenate arrays"
   ]
  },
  {
   "cell_type": "code",
   "execution_count": 34,
   "id": "a552d83c",
   "metadata": {},
   "outputs": [
    {
     "name": "stdout",
     "output_type": "stream",
     "text": [
      "[ 1  2  3  4  5  6  7  8  9 10]\n",
      "[[ 1  2  3  4  5]\n",
      " [ 6  7  8  9 10]]\n",
      "[ 1  2  3  4  5  6  7  8  9 10]\n",
      "[[ 1  2  3  4  5]\n",
      " [ 6  7  8  9 10]]\n"
     ]
    }
   ],
   "source": [
    "a3 = np.concatenate([a1, a2])\n",
    "print(a3)\n",
    "a3 = np.stack([a1, a2])\n",
    "print(a3)\n",
    "a3 = np.hstack([a1, a2])\n",
    "print(a3)\n",
    "a3 = np.vstack([a1, a2])\n",
    "print(a3)"
   ]
  },
  {
   "cell_type": "code",
   "execution_count": 35,
   "id": "b691f619",
   "metadata": {},
   "outputs": [
    {
     "data": {
      "text/plain": [
       "[array([[1, 2, 3, 4, 5]]), array([[ 6,  7,  8,  9, 10]])]"
      ]
     },
     "execution_count": 35,
     "metadata": {},
     "output_type": "execute_result"
    }
   ],
   "source": [
    "np.split(a3, 2, axis = 0) # = vsplit"
   ]
  },
  {
   "cell_type": "code",
   "execution_count": 37,
   "id": "6753c68f",
   "metadata": {},
   "outputs": [
    {
     "data": {
      "text/plain": [
       "[array([[1],\n",
       "        [6]]),\n",
       " array([[2],\n",
       "        [7]]),\n",
       " array([[3],\n",
       "        [8]]),\n",
       " array([[4],\n",
       "        [9]]),\n",
       " array([[ 5],\n",
       "        [10]])]"
      ]
     },
     "execution_count": 37,
     "metadata": {},
     "output_type": "execute_result"
    }
   ],
   "source": [
    "np.split(a3, 5, axis = 1) # = hsplit"
   ]
  },
  {
   "cell_type": "markdown",
   "id": "f6dc6639",
   "metadata": {},
   "source": [
    "different lengths: use list of cumulative lengths\n",
    "example for when total number of row is 100\n",
    "[10, 40, 100]"
   ]
  },
  {
   "cell_type": "markdown",
   "id": "9182b72c",
   "metadata": {},
   "source": [
    "characteristic values: .min(), .max(), .mean(), .sum()"
   ]
  },
  {
   "cell_type": "markdown",
   "id": "770c1bc6",
   "metadata": {},
   "source": [
    "indexing arrays: .argmin(), .argmax(), .argsort(), .where(a satisfy condition)"
   ]
  },
  {
   "cell_type": "code",
   "execution_count": 43,
   "id": "3770747a",
   "metadata": {},
   "outputs": [
    {
     "data": {
      "text/plain": [
       "(array([0, 1], dtype=int64),)"
      ]
     },
     "execution_count": 43,
     "metadata": {},
     "output_type": "execute_result"
    }
   ],
   "source": [
    "a1 = np.array([1, 2, 3, 4]) #have to specify array\n",
    "np.where(a1 < 3)"
   ]
  },
  {
   "cell_type": "markdown",
   "id": "93c8ccbe",
   "metadata": {},
   "source": [
    "# Plotting with Matplotlib"
   ]
  },
  {
   "cell_type": "code",
   "execution_count": 44,
   "id": "324d7d7c",
   "metadata": {},
   "outputs": [],
   "source": [
    "import matplotlib.pyplot as plt"
   ]
  },
  {
   "cell_type": "code",
   "execution_count": 47,
   "id": "1e7a712f",
   "metadata": {},
   "outputs": [
    {
     "data": {
      "text/plain": [
       "[<matplotlib.lines.Line2D at 0x26f16cd9190>]"
      ]
     },
     "execution_count": 47,
     "metadata": {},
     "output_type": "execute_result"
    },
    {
     "data": {
      "image/png": "[encoded data removed]",
      "text/plain": [
       "<Figure size 640x480 with 1 Axes>"
      ]
     },
     "metadata": {},
     "output_type": "display_data"
    }
   ],
   "source": [
    "x = np.arange(0, 10, 1/32) #start, end, stepsize\n",
    "y = np.sin(x)\n",
    "plt.plot(x, y)"
   ]
  },
  {
   "cell_type": "code",
   "execution_count": 51,
   "id": "fca0c15b",
   "metadata": {},
   "outputs": [
    {
     "data": {
      "text/plain": [
       "[<matplotlib.lines.Line2D at 0x26f1864be10>]"
      ]
     },
     "execution_count": 51,
     "metadata": {},
     "output_type": "execute_result"
    },
    {
     "data": {
      "image/png": "[encoded data removed]",
      "text/plain": [
       "<Figure size 640x480 with 1 Axes>"
      ]
     },
     "metadata": {},
     "output_type": "display_data"
    }
   ],
   "source": [
    "plt.title('y = sin(x)')\n",
    "plt.xlabel('x')\n",
    "plt.ylabel('y')\n",
    "plt.xlim(-1, 20)\n",
    "plt.ylim(-2, 2)\n",
    "plt.plot(x, y)"
   ]
  },
  {
   "cell_type": "code",
   "execution_count": null,
   "id": "5fba8463",
   "metadata": {},
   "outputs": [],
   "source": []
  }
 ],
 "metadata": {
  "kernelspec": {
   "display_name": "Python 3 (ipykernel)",
   "language": "python",
   "name": "python3"
  },
  "language_info": {
   "codemirror_mode": {
    "name": "ipython",
    "version": 3
   },
   "file_extension": ".py",
   "mimetype": "text/x-python",
   "name": "python",
   "nbconvert_exporter": "python",
   "pygments_lexer": "ipython3",
   "version": "3.11.5"
  }
 },
 "nbformat": 4,
 "nbformat_minor": 5
}
