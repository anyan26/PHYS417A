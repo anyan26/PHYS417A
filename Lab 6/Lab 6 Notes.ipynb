{
 "cells": [
  {
   "cell_type": "markdown",
   "id": "13b28790",
   "metadata": {},
   "source": [
    "# Encoder/Decoder"
   ]
  },
  {
   "cell_type": "markdown",
   "id": "e7dc0004",
   "metadata": {},
   "source": [
    "encoder takes input sequence and generate the encoded state\n",
    "\n",
    "decoder takes a state and generate the output\n",
    "\n",
    "## Training Encoder - Decoder\n",
    "\n",
    "can be viewed as a single RNN layer with number of neurons = number of nodes in encoder + number of nodes in decoder \n",
    "\n",
    "\n"
   ]
  },
  {
   "cell_type": "markdown",
   "id": "69131f49",
   "metadata": {},
   "source": [
    "# Approaches to Avoid Exploding/Vanishing Gradients \n",
    "\n",
    "## Long Short-Term Memeory (LSTM)\n",
    "* Each RNN node is replaced with a memory cell \n",
    "* Each memory cell contains an internal state ensuring gradients can pass through without vanishing/exploding \n",
    "* each cell has a number of multiplicative gates to determine whether a cell should \n",
    "    (i) impact the internal state, \n",
    "    (ii) internal state should be flushed to 0 -> reset internal state \n",
    "    (iii) the internal state should impact the cell's output \n",
    "\n",
    "## Gated Recurrent Units (GRU)"
   ]
  },
  {
   "cell_type": "markdown",
   "id": "f0134150",
   "metadata": {},
   "source": [
    "* comparable performance but faster"
   ]
  },
  {
   "cell_type": "code",
   "execution_count": null,
   "id": "124afc86",
   "metadata": {},
   "outputs": [],
   "source": []
  }
 ],
 "metadata": {
  "kernelspec": {
   "display_name": "Python 3 (ipykernel)",
   "language": "python",
   "name": "python3"
  },
  "language_info": {
   "codemirror_mode": {
    "name": "ipython",
    "version": 3
   },
   "file_extension": ".py",
   "mimetype": "text/x-python",
   "name": "python",
   "nbconvert_exporter": "python",
   "pygments_lexer": "ipython3",
   "version": "3.11.5"
  }
 },
 "nbformat": 4,
 "nbformat_minor": 5
}
